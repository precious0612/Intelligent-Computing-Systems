{
 "cells": [
  {
   "cell_type": "code",
   "execution_count": 2,
   "metadata": {},
   "outputs": [],
   "source": [
    "import numpy as np"
   ]
  },
  {
   "attachments": {},
   "cell_type": "markdown",
   "metadata": {},
   "source": [
    "## padding"
   ]
  },
  {
   "cell_type": "code",
   "execution_count": 3,
   "metadata": {},
   "outputs": [],
   "source": [
    "array = np.random.rand(3,4)"
   ]
  },
  {
   "cell_type": "code",
   "execution_count": 4,
   "metadata": {},
   "outputs": [],
   "source": [
    "def padding(array, pad_width, mode, **kwargs):\n",
    "    if pad_width == 0:\n",
    "        return array\n",
    "    if mode == 'constant':\n",
    "        array = np.pad(array, pad_width, mode, **kwargs)\n",
    "    return array"
   ]
  },
  {
   "cell_type": "code",
   "execution_count": 5,
   "metadata": {},
   "outputs": [],
   "source": [
    "def calculate_lenth(array_lenth, kernel_lenth, stride):\n",
    "    return int((array_lenth - kernel_lenth) / stride + 1)"
   ]
  },
  {
   "cell_type": "code",
   "execution_count": 6,
   "metadata": {},
   "outputs": [],
   "source": [
    "def convolve(array, kernel, pad:int, stride:int = 1, **kwargs):\n",
    "    if pad:\n",
    "        array = padding(array, pad, 'constant', constant_values=0)\n",
    "        \n",
    "    kernel_size = kernel.shape\n",
    "    width = calculate_lenth(array.shape[0], kernel_size[0], stride)\n",
    "    height = calculate_lenth(array.shape[1], kernel_size[1], stride)\n",
    "    result = np.zeros(((width, height)))\n",
    "    \n",
    "    for i in range(width):\n",
    "        x = i * stride\n",
    "        for j in range(height):\n",
    "            y = j * stride\n",
    "            if i + kernel_size[0] <= len(array) and j + kernel_size[1] <= len(array[0]):\n",
    "                result[i, j] = np.dot(array[x:x+kernel_size[0], y:y+kernel_size[1]].flatten(), kernel.flatten())\n",
    "                # result[i, j] = np.sum(array[x:x+kernel_size[0], y:y+kernel_size[1]] * kernel)\n",
    "    return result"
   ]
  },
  {
   "cell_type": "code",
   "execution_count": 7,
   "metadata": {},
   "outputs": [
    {
     "data": {
      "text/plain": [
       "array([[0.29711984, 0.92347732, 0.83060222],\n",
       "       [0.58441229, 2.2747577 , 1.33442813]])"
      ]
     },
     "execution_count": 7,
     "metadata": {},
     "output_type": "execute_result"
    }
   ],
   "source": [
    "convolve(array, np.ones((2,2)), pad=1, stride=2)"
   ]
  },
  {
   "cell_type": "code",
   "execution_count": 8,
   "metadata": {},
   "outputs": [],
   "source": [
    "def channels_convolve(array, kernel, pad:int, stride:int = 1, channel_first=False, **kwargs):\n",
    "    if channel_first:\n",
    "        array = array.transpose(0, 2, 3, 1)\n",
    "        kernel = kernel.transpose(0, 2, 3, 1)\n",
    "    result = []\n",
    "    for i in range(array.shape[0]):\n",
    "        result.append(convolve(array[i], kernel[i], pad, stride))\n",
    "    return np.array(result)"
   ]
  },
  {
   "cell_type": "code",
   "execution_count": 9,
   "metadata": {},
   "outputs": [],
   "source": [
    "def channels_convolve(array, kernel, bias, pad:int = 0, stride:int = 1, channel_last=False, **kwargs):\n",
    "    if channel_last:\n",
    "        array = array.transpose(1, 2, 0)\n",
    "        \n",
    "    # print(array)\n",
    "        \n",
    "    channel = len(array)\n",
    "    result = []\n",
    "        \n",
    "    for i in range(channel):\n",
    "        result.append(padding(array[i], pad, 'constant', constant_values=0))\n",
    "        \n",
    "    array = np.array(result)\n",
    "    # print(array)\n",
    "        \n",
    "    kernel_size = kernel.shape\n",
    "    output_channel = kernel_size[0]\n",
    "    width = calculate_lenth(array.shape[1], kernel_size[-2], stride)\n",
    "    height = calculate_lenth(array.shape[2], kernel_size[-1], stride)\n",
    "    result = np.zeros(((output_channel, width, height)))\n",
    "    \n",
    "    for i in range(width):\n",
    "        x = i * stride\n",
    "        for j in range(height):\n",
    "            y = j * stride\n",
    "            if i + kernel_size[-2] <= len(array[0]) and j + kernel_size[-1] <= len(array[1]):\n",
    "                array_comp = array[:, x:x+kernel_size[-2], y:y+kernel_size[-1]].flatten()\n",
    "                result[:, i, j] = np.dot(array_comp, kernel.flatten().reshape(output_channel, -1).T) + bias\n",
    "                # result[:, i, j] = np.sum(array[:, x:x+kernel_size[1], y:y+kernel_size[2]] * kernel)\n",
    "    return result"
   ]
  },
  {
   "cell_type": "code",
   "execution_count": 10,
   "metadata": {},
   "outputs": [],
   "source": [
    "array = np.random.rand(3,3,4)\n",
    "kernel = np.ones((3,3,2,2))\n",
    "bias = np.ones(3)"
   ]
  },
  {
   "cell_type": "code",
   "execution_count": 11,
   "metadata": {},
   "outputs": [
    {
     "data": {
      "text/plain": [
       "array([[[2.40350077, 4.02586307, 1.96670927],\n",
       "        [3.41423613, 8.16287879, 3.85192792]],\n",
       "\n",
       "       [[2.40350077, 4.02586307, 1.96670927],\n",
       "        [3.41423613, 8.16287879, 3.85192792]],\n",
       "\n",
       "       [[2.40350077, 4.02586307, 1.96670927],\n",
       "        [3.41423613, 8.16287879, 3.85192792]]])"
      ]
     },
     "execution_count": 11,
     "metadata": {},
     "output_type": "execute_result"
    }
   ],
   "source": [
    "channels_convolve(array, kernel, bias, pad=1, stride=2, channel_last=False)"
   ]
  },
  {
   "cell_type": "code",
   "execution_count": 18,
   "metadata": {},
   "outputs": [],
   "source": [
    "def batch_channels_convolve(array, kernel, bias, pad=1, stride=2, channel_last=False):\n",
    "    output = []\n",
    "    for i in array:\n",
    "        output.append(channels_convolve(i, kernel, bias, pad, stride, channel_last))\n",
    "    \n",
    "    return np.array(output, dtype=np.float32)"
   ]
  },
  {
   "cell_type": "code",
   "execution_count": 19,
   "metadata": {},
   "outputs": [],
   "source": [
    "batch = 10\n",
    "array = np.random.rand(batch,3,3,4)\n",
    "kernel = np.ones((3,3,2,2))\n",
    "bias = np.ones(3)"
   ]
  },
  {
   "cell_type": "code",
   "execution_count": 20,
   "metadata": {},
   "outputs": [
    {
     "data": {
      "text/plain": [
       "array([[[[3.0694358, 5.6275134, 1.9081578],\n",
       "         [3.3432426, 6.947074 , 4.2297325]],\n",
       "\n",
       "        [[3.0694358, 5.6275134, 1.9081578],\n",
       "         [3.3432426, 6.947074 , 4.2297325]],\n",
       "\n",
       "        [[3.0694358, 5.6275134, 1.9081578],\n",
       "         [3.3432426, 6.947074 , 4.2297325]]],\n",
       "\n",
       "\n",
       "       [[[2.243345 , 3.7798426, 3.237752 ],\n",
       "         [3.451369 , 9.062789 , 4.7806826]],\n",
       "\n",
       "        [[2.243345 , 3.7798426, 3.237752 ],\n",
       "         [3.451369 , 9.062789 , 4.7806826]],\n",
       "\n",
       "        [[2.243345 , 3.7798426, 3.237752 ],\n",
       "         [3.451369 , 9.062789 , 4.7806826]]],\n",
       "\n",
       "\n",
       "       [[[2.7537405, 2.9384682, 2.653953 ],\n",
       "         [3.9810932, 7.3085604, 3.7629242]],\n",
       "\n",
       "        [[2.7537405, 2.9384682, 2.653953 ],\n",
       "         [3.9810932, 7.3085604, 3.7629242]],\n",
       "\n",
       "        [[2.7537405, 2.9384682, 2.653953 ],\n",
       "         [3.9810932, 7.3085604, 3.7629242]]],\n",
       "\n",
       "\n",
       "       [[[2.0214958, 6.221232 , 2.8142111],\n",
       "         [2.7397258, 6.702938 , 4.313851 ]],\n",
       "\n",
       "        [[2.0214958, 6.221232 , 2.8142111],\n",
       "         [2.7397258, 6.702938 , 4.313851 ]],\n",
       "\n",
       "        [[2.0214958, 6.221232 , 2.8142111],\n",
       "         [2.7397258, 6.702938 , 4.313851 ]]],\n",
       "\n",
       "\n",
       "       [[[2.4166508, 3.0302618, 2.9617608],\n",
       "         [4.55975  , 7.4710007, 5.276028 ]],\n",
       "\n",
       "        [[2.4166508, 3.0302618, 2.9617608],\n",
       "         [4.55975  , 7.4710007, 5.276028 ]],\n",
       "\n",
       "        [[2.4166508, 3.0302618, 2.9617608],\n",
       "         [4.55975  , 7.4710007, 5.276028 ]]],\n",
       "\n",
       "\n",
       "       [[[2.5125887, 3.6711326, 1.4687856],\n",
       "         [3.5223598, 6.232214 , 4.518399 ]],\n",
       "\n",
       "        [[2.5125887, 3.6711326, 1.4687856],\n",
       "         [3.5223598, 6.232214 , 4.518399 ]],\n",
       "\n",
       "        [[2.5125887, 3.6711326, 1.4687856],\n",
       "         [3.5223598, 6.232214 , 4.518399 ]]],\n",
       "\n",
       "\n",
       "       [[[2.926035 , 4.539438 , 2.4851878],\n",
       "         [3.3012643, 5.5854335, 4.603784 ]],\n",
       "\n",
       "        [[2.926035 , 4.539438 , 2.4851878],\n",
       "         [3.3012643, 5.5854335, 4.603784 ]],\n",
       "\n",
       "        [[2.926035 , 4.539438 , 2.4851878],\n",
       "         [3.3012643, 5.5854335, 4.603784 ]]],\n",
       "\n",
       "\n",
       "       [[[2.0400217, 3.7589383, 2.4160528],\n",
       "         [2.9979873, 7.599492 , 4.669657 ]],\n",
       "\n",
       "        [[2.0400217, 3.7589383, 2.4160528],\n",
       "         [2.9979873, 7.599492 , 4.669657 ]],\n",
       "\n",
       "        [[2.0400217, 3.7589383, 2.4160528],\n",
       "         [2.9979873, 7.599492 , 4.669657 ]]],\n",
       "\n",
       "\n",
       "       [[[2.1286924, 4.478867 , 3.2097375],\n",
       "         [3.461601 , 7.8451014, 4.2851634]],\n",
       "\n",
       "        [[2.1286924, 4.478867 , 3.2097375],\n",
       "         [3.461601 , 7.8451014, 4.2851634]],\n",
       "\n",
       "        [[2.1286924, 4.478867 , 3.2097375],\n",
       "         [3.461601 , 7.8451014, 4.2851634]]],\n",
       "\n",
       "\n",
       "       [[[2.2920487, 2.7601058, 1.8905327],\n",
       "         [3.2517335, 8.139334 , 1.9464983]],\n",
       "\n",
       "        [[2.2920487, 2.7601058, 1.8905327],\n",
       "         [3.2517335, 8.139334 , 1.9464983]],\n",
       "\n",
       "        [[2.2920487, 2.7601058, 1.8905327],\n",
       "         [3.2517335, 8.139334 , 1.9464983]]]], dtype=float32)"
      ]
     },
     "execution_count": 20,
     "metadata": {},
     "output_type": "execute_result"
    }
   ],
   "source": [
    "batch_channels_convolve(array, kernel, bias)"
   ]
  }
 ],
 "metadata": {
  "kernelspec": {
   "display_name": "Python 3",
   "language": "python",
   "name": "python3"
  },
  "language_info": {
   "codemirror_mode": {
    "name": "ipython",
    "version": 3
   },
   "file_extension": ".py",
   "mimetype": "text/x-python",
   "name": "python",
   "nbconvert_exporter": "python",
   "pygments_lexer": "ipython3",
   "version": "3.11.3"
  },
  "orig_nbformat": 4
 },
 "nbformat": 4,
 "nbformat_minor": 2
}
